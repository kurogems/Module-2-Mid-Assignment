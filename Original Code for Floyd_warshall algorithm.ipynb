{
 "cells": [
  {
   "cell_type": "code",
   "execution_count": 35,
   "metadata": {},
   "outputs": [],
   "source": [
    "node = [1,2,3,4,5]\n",
    "edge = {(1,2): 1.0, (1,3): 2.5, (1,4): 3.0, (2,3): 3.0, \n",
    "        (2,4): 2.5, (2,5): 1.0, (3,5): 1.0 \n",
    "        }\n",
    "shortest_path = floyd_warshall(node,edge)"
   ]
  },
  {
   "cell_type": "code",
   "execution_count": 34,
   "metadata": {},
   "outputs": [],
   "source": [
    "def floyd_warshall(node,edge):\n",
    "    d = {(u,v): float('inf') if u != v else 0 for u in node for v in node}\n",
    "    for (u,v), w_uv in edge.items():\n",
    "        d[(u,v)] = w_uv\n",
    "    for k in node:\n",
    "        for u in node:\n",
    "            for v in node:\n",
    "                d[(u,v)] = min(d[(u,v)], d[(u,k)] + d[(k,v)])\n",
    "    if any(d[(u,u)] < 0 for u in node):\n",
    "        print(\"Graph has a negative weight cycle\")\n",
    "    return d"
   ]
  },
  {
   "cell_type": "code",
   "execution_count": 36,
   "metadata": {},
   "outputs": [
    {
     "name": "stdout",
     "output_type": "stream",
     "text": [
      "{(1, 1): 0, (1, 2): 1.0, (1, 3): 2.5, (1, 4): 3.0, (1, 5): 2.0, (2, 1): inf, (2, 2): 0, (2, 3): 3.0, (2, 4): 2.5, (2, 5): 1.0, (3, 1): inf, (3, 2): inf, (3, 3): 0, (3, 4): inf, (3, 5): 1.0, (4, 1): inf, (4, 2): inf, (4, 3): inf, (4, 4): 0, (4, 5): inf, (5, 1): inf, (5, 2): inf, (5, 3): inf, (5, 4): inf, (5, 5): 0}\n"
     ]
    }
   ],
   "source": [
    "print(shortest_path)"
   ]
  }
 ],
 "metadata": {
  "kernelspec": {
   "display_name": "Python 3",
   "language": "python",
   "name": "python3"
  },
  "language_info": {
   "codemirror_mode": {
    "name": "ipython",
    "version": 3
   },
   "file_extension": ".py",
   "mimetype": "text/x-python",
   "name": "python",
   "nbconvert_exporter": "python",
   "pygments_lexer": "ipython3",
   "version": "3.10.13"
  }
 },
 "nbformat": 4,
 "nbformat_minor": 2
}
